{
 "cells": [
  {
   "cell_type": "markdown",
   "id": "a6c9260d-a1f1-4b52-a128-9d4f61b8abad",
   "metadata": {},
   "source": [
    "# Homework 1\n",
    "\n",
    "## Part 1 - Warmup: Naive Bayes\n",
    "\n",
    "## Spam detector for SMS messages\n",
    "\n",
    "We will use Naive Bayes method to calssify SMS messages as spam or ham (i.e., non-spam).\n"
   ]
  },
  {
   "cell_type": "code",
   "execution_count": 1,
   "id": "b8c0b147-4bff-420c-9d74-7a359825c9bf",
   "metadata": {},
   "outputs": [],
   "source": [
    "import pandas as pd\n",
    "\n",
    "df = pd.read_csv('SMSSpamCollection', \n",
    "                   sep='\\t', \n",
    "                   header=None,\n",
    "                   names=['label', 'message'])"
   ]
  },
  {
   "cell_type": "code",
   "execution_count": 2,
   "id": "e277f60a-25d9-4571-8cc2-5c08d41fc29b",
   "metadata": {},
   "outputs": [
    {
     "data": {
      "text/html": [
       "<div>\n",
       "<style scoped>\n",
       "    .dataframe tbody tr th:only-of-type {\n",
       "        vertical-align: middle;\n",
       "    }\n",
       "\n",
       "    .dataframe tbody tr th {\n",
       "        vertical-align: top;\n",
       "    }\n",
       "\n",
       "    .dataframe thead th {\n",
       "        text-align: right;\n",
       "    }\n",
       "</style>\n",
       "<table border=\"1\" class=\"dataframe\">\n",
       "  <thead>\n",
       "    <tr style=\"text-align: right;\">\n",
       "      <th></th>\n",
       "      <th>label</th>\n",
       "      <th>message</th>\n",
       "    </tr>\n",
       "  </thead>\n",
       "  <tbody>\n",
       "    <tr>\n",
       "      <th>0</th>\n",
       "      <td>ham</td>\n",
       "      <td>Go until jurong point, crazy.. Available only ...</td>\n",
       "    </tr>\n",
       "    <tr>\n",
       "      <th>1</th>\n",
       "      <td>ham</td>\n",
       "      <td>Ok lar... Joking wif u oni...</td>\n",
       "    </tr>\n",
       "    <tr>\n",
       "      <th>2</th>\n",
       "      <td>spam</td>\n",
       "      <td>Free entry in 2 a wkly comp to win FA Cup fina...</td>\n",
       "    </tr>\n",
       "    <tr>\n",
       "      <th>3</th>\n",
       "      <td>ham</td>\n",
       "      <td>U dun say so early hor... U c already then say...</td>\n",
       "    </tr>\n",
       "    <tr>\n",
       "      <th>4</th>\n",
       "      <td>ham</td>\n",
       "      <td>Nah I don't think he goes to usf, he lives aro...</td>\n",
       "    </tr>\n",
       "  </tbody>\n",
       "</table>\n",
       "</div>"
      ],
      "text/plain": [
       "  label                                            message\n",
       "0   ham  Go until jurong point, crazy.. Available only ...\n",
       "1   ham                      Ok lar... Joking wif u oni...\n",
       "2  spam  Free entry in 2 a wkly comp to win FA Cup fina...\n",
       "3   ham  U dun say so early hor... U c already then say...\n",
       "4   ham  Nah I don't think he goes to usf, he lives aro..."
      ]
     },
     "execution_count": 2,
     "metadata": {},
     "output_type": "execute_result"
    }
   ],
   "source": [
    "df.head()"
   ]
  },
  {
   "cell_type": "markdown",
   "id": "72d3a5b2-594e-4e6e-bd09-609b798f3aa1",
   "metadata": {},
   "source": [
    "### 2. Data Preprocessing\n",
    "\n",
    "### Exercise:\n",
    "Do the following:\n",
    "1. Change the labels of ham into 0 and spam into 1\n",
    "2. Convert all messages to lower case\n",
    "3. Find the distribution of messages. Namely, how many spam and how many ham SMS messages there are. What is their percetage of total messages?"
   ]
  },
  {
   "cell_type": "code",
   "execution_count": 3,
   "id": "c928796d-2cf0-4e39-8fc8-c67b9cb478cf",
   "metadata": {},
   "outputs": [
    {
     "name": "stdout",
     "output_type": "stream",
     "text": [
      "      label                                            message\n",
      "0         0  Go until jurong point, crazy.. Available only ...\n",
      "1         0                      Ok lar... Joking wif u oni...\n",
      "2         1  Free entry in 2 a wkly comp to win FA Cup fina...\n",
      "3         0  U dun say so early hor... U c already then say...\n",
      "4         0  Nah I don't think he goes to usf, he lives aro...\n",
      "...     ...                                                ...\n",
      "5567      1  This is the 2nd time we have tried 2 contact u...\n",
      "5568      0               Will ü b going to esplanade fr home?\n",
      "5569      0  Pity, * was in mood for that. So...any other s...\n",
      "5570      0  The guy did some bitching but I acted like i'd...\n",
      "5571      0                         Rofl. Its true to its name\n",
      "\n",
      "[5572 rows x 2 columns]\n",
      "86.59368269921033\n",
      "13.406317300789663\n"
     ]
    }
   ],
   "source": [
    "# Part 1 - change ham to 0 and spam to 1\n",
    "df['label'] = df['label'].map({'ham': 0, 'spam': 1})\n",
    "print(df) \n",
    "\n",
    "# Part 2:  Convert to lower case\n",
    "df['message'] = df['message'].str.lower()\n",
    "\n",
    "# Part 3 - number of SMS messages of each type\n",
    "message_distribution = df['label'].value_counts() # ham (0) - 4875 , spam (1) -747\n",
    "ham_count = message_distribution[0]\n",
    "spam_count = message_distribution[1]\n",
    "\n",
    "# Calculate the percentages\n",
    "total_messages = len(df) # 5572\n",
    "ham_percentage = (ham_count / total_messages) * 100 #86.59368269921033\n",
    "print(ham_percentage)\n",
    "spam_percentage = (spam_count / total_messages) * 100 #13.406317300789663\n",
    "print(spam_percentage)"
   ]
  },
  {
   "cell_type": "code",
   "execution_count": 4,
   "id": "696bd535-2965-4ada-b5c5-0c38411bd630",
   "metadata": {},
   "outputs": [
    {
     "data": {
      "text/html": [
       "<div>\n",
       "<style scoped>\n",
       "    .dataframe tbody tr th:only-of-type {\n",
       "        vertical-align: middle;\n",
       "    }\n",
       "\n",
       "    .dataframe tbody tr th {\n",
       "        vertical-align: top;\n",
       "    }\n",
       "\n",
       "    .dataframe thead th {\n",
       "        text-align: right;\n",
       "    }\n",
       "</style>\n",
       "<table border=\"1\" class=\"dataframe\">\n",
       "  <thead>\n",
       "    <tr style=\"text-align: right;\">\n",
       "      <th></th>\n",
       "      <th>label</th>\n",
       "      <th>message</th>\n",
       "    </tr>\n",
       "  </thead>\n",
       "  <tbody>\n",
       "    <tr>\n",
       "      <th>0</th>\n",
       "      <td>0</td>\n",
       "      <td>go until jurong point, crazy.. available only ...</td>\n",
       "    </tr>\n",
       "    <tr>\n",
       "      <th>1</th>\n",
       "      <td>0</td>\n",
       "      <td>ok lar... joking wif u oni...</td>\n",
       "    </tr>\n",
       "    <tr>\n",
       "      <th>2</th>\n",
       "      <td>1</td>\n",
       "      <td>free entry in 2 a wkly comp to win fa cup fina...</td>\n",
       "    </tr>\n",
       "    <tr>\n",
       "      <th>3</th>\n",
       "      <td>0</td>\n",
       "      <td>u dun say so early hor... u c already then say...</td>\n",
       "    </tr>\n",
       "    <tr>\n",
       "      <th>4</th>\n",
       "      <td>0</td>\n",
       "      <td>nah i don't think he goes to usf, he lives aro...</td>\n",
       "    </tr>\n",
       "  </tbody>\n",
       "</table>\n",
       "</div>"
      ],
      "text/plain": [
       "   label                                            message\n",
       "0      0  go until jurong point, crazy.. available only ...\n",
       "1      0                      ok lar... joking wif u oni...\n",
       "2      1  free entry in 2 a wkly comp to win fa cup fina...\n",
       "3      0  u dun say so early hor... u c already then say...\n",
       "4      0  nah i don't think he goes to usf, he lives aro..."
      ]
     },
     "execution_count": 4,
     "metadata": {},
     "output_type": "execute_result"
    }
   ],
   "source": [
    "# part 4 - provided free of charge. \n",
    "# removing punctuation\n",
    "\n",
    "df['message'] = df['message'].str.strip()\n",
    "#df['message'] = df.message.str.replace('[^\\w\\s]', '')  # option 2\n",
    "df.head()"
   ]
  },
  {
   "cell_type": "markdown",
   "id": "4bb3b5b5-813c-4d6a-ab9b-eb0480f7e7fa",
   "metadata": {},
   "source": [
    "### 3. Data preprocessing using nltk package\n",
    "\n",
    "nltk - natural language toolkit package is a package that processes text. We will use it to separate words and use their counts.\n",
    "\n",
    "But first, let's see how this works:"
   ]
  },
  {
   "cell_type": "code",
   "execution_count": 5,
   "id": "579a1ec9-bc54-47e5-b8d6-62011e4ebf3e",
   "metadata": {},
   "outputs": [
    {
     "name": "stderr",
     "output_type": "stream",
     "text": [
      "[nltk_data] Downloading package punkt to\n",
      "[nltk_data]     C:\\Users\\roee\\AppData\\Roaming\\nltk_data...\n",
      "[nltk_data]   Package punkt is already up-to-date!\n"
     ]
    },
    {
     "data": {
      "text/plain": [
       "['At',\n",
       " 'eight',\n",
       " \"o'clock\",\n",
       " 'on',\n",
       " 'Thursday',\n",
       " 'morning',\n",
       " 'Arthur',\n",
       " 'did',\n",
       " \"n't\",\n",
       " 'feel',\n",
       " 'very',\n",
       " 'good']"
      ]
     },
     "execution_count": 5,
     "metadata": {},
     "output_type": "execute_result"
    }
   ],
   "source": [
    "import nltk\n",
    "nltk.download('punkt')# - in case stuff is missing/not working\n",
    "\n",
    "# break sentence into tokens (words)\n",
    "sentence = 'At eight o\\'clock on Thursday morning Arthur didn\\'t feel very good '\n",
    "tokens = nltk.word_tokenize(sentence)\n",
    "tokens"
   ]
  },
  {
   "cell_type": "code",
   "execution_count": 6,
   "id": "7f99733c-6088-4de8-bd1a-793ee53f4d4e",
   "metadata": {},
   "outputs": [
    {
     "name": "stdout",
     "output_type": "stream",
     "text": [
      "python\n",
      "python\n",
      "python\n",
      "python\n",
      "python\n",
      "pythonli\n",
      "python\n"
     ]
    }
   ],
   "source": [
    "# Remove tenses and conjugations of words\n",
    "from nltk.stem import PorterStemmer\n",
    "\n",
    "ps = PorterStemmer()   # this is a particular algoirthm\n",
    "\n",
    "\n",
    "example_words = [\"python\",\"pythoner\",\"pythoning\",\"pythoned\", \"pythoned\", \"pythonly\", \"pythonant\"]\n",
    "for w in example_words:\n",
    "    print(ps.stem(w))    \n",
    "    "
   ]
  },
  {
   "cell_type": "code",
   "execution_count": 7,
   "id": "309ddcbe-442f-4010-9edd-4680ce5bc042",
   "metadata": {},
   "outputs": [
    {
     "name": "stdout",
     "output_type": "stream",
     "text": [
      "it is import to be veri pythonli while you are python with python . all python have python poorli at least onc .\n"
     ]
    }
   ],
   "source": [
    "text = \"It is important to be very pythonly while you are pythoning with python. \\\n",
    "            All pythoners have pythoned poorly at least once.\"\n",
    "\n",
    "words = nltk.word_tokenize(text)\n",
    "new_text = []\n",
    "for w in words:\n",
    "    #print(ps.stem(w))\n",
    "    new_text.append(ps.stem(w))\n",
    "    \n",
    "print (' '.join(new_text))"
   ]
  },
  {
   "cell_type": "markdown",
   "id": "b3ee36ec-0551-448b-98ed-d7a57a54e123",
   "metadata": {},
   "source": [
    "### Back to SMS messages\n",
    "\n",
    "Separating messages into words - tokenizing"
   ]
  },
  {
   "cell_type": "code",
   "execution_count": 8,
   "id": "f83fa227-a009-4908-9161-c0ce52d505f3",
   "metadata": {},
   "outputs": [],
   "source": [
    "df2 = df.copy()\n",
    "df2['message'] = df2['message'].apply(nltk.word_tokenize)  \n",
    "\n",
    "# NOTE: using df2, because otherwise you can't run this twice. \n",
    "# word_tokenize takes as argument a string, and after this is done,\n",
    "# the contents of df['message'] is a list"
   ]
  },
  {
   "cell_type": "code",
   "execution_count": 9,
   "id": "876d003d-0f54-41e0-8f9c-ae650b059a35",
   "metadata": {},
   "outputs": [
    {
     "data": {
      "text/html": [
       "<div>\n",
       "<style scoped>\n",
       "    .dataframe tbody tr th:only-of-type {\n",
       "        vertical-align: middle;\n",
       "    }\n",
       "\n",
       "    .dataframe tbody tr th {\n",
       "        vertical-align: top;\n",
       "    }\n",
       "\n",
       "    .dataframe thead th {\n",
       "        text-align: right;\n",
       "    }\n",
       "</style>\n",
       "<table border=\"1\" class=\"dataframe\">\n",
       "  <thead>\n",
       "    <tr style=\"text-align: right;\">\n",
       "      <th></th>\n",
       "      <th>label</th>\n",
       "      <th>message</th>\n",
       "    </tr>\n",
       "  </thead>\n",
       "  <tbody>\n",
       "    <tr>\n",
       "      <th>0</th>\n",
       "      <td>0</td>\n",
       "      <td>[go, until, jurong, point, ,, crazy, .., avail...</td>\n",
       "    </tr>\n",
       "    <tr>\n",
       "      <th>1</th>\n",
       "      <td>0</td>\n",
       "      <td>[ok, lar, ..., joking, wif, u, oni, ...]</td>\n",
       "    </tr>\n",
       "    <tr>\n",
       "      <th>2</th>\n",
       "      <td>1</td>\n",
       "      <td>[free, entry, in, 2, a, wkly, comp, to, win, f...</td>\n",
       "    </tr>\n",
       "    <tr>\n",
       "      <th>3</th>\n",
       "      <td>0</td>\n",
       "      <td>[u, dun, say, so, early, hor, ..., u, c, alrea...</td>\n",
       "    </tr>\n",
       "    <tr>\n",
       "      <th>4</th>\n",
       "      <td>0</td>\n",
       "      <td>[nah, i, do, n't, think, he, goes, to, usf, ,,...</td>\n",
       "    </tr>\n",
       "  </tbody>\n",
       "</table>\n",
       "</div>"
      ],
      "text/plain": [
       "   label                                            message\n",
       "0      0  [go, until, jurong, point, ,, crazy, .., avail...\n",
       "1      0           [ok, lar, ..., joking, wif, u, oni, ...]\n",
       "2      1  [free, entry, in, 2, a, wkly, comp, to, win, f...\n",
       "3      0  [u, dun, say, so, early, hor, ..., u, c, alrea...\n",
       "4      0  [nah, i, do, n't, think, he, goes, to, usf, ,,..."
      ]
     },
     "execution_count": 9,
     "metadata": {},
     "output_type": "execute_result"
    }
   ],
   "source": [
    "df2.head()"
   ]
  },
  {
   "cell_type": "code",
   "execution_count": 10,
   "id": "47eae604-f9f7-400b-a328-4b74318c73e7",
   "metadata": {},
   "outputs": [
    {
     "data": {
      "text/html": [
       "<div>\n",
       "<style scoped>\n",
       "    .dataframe tbody tr th:only-of-type {\n",
       "        vertical-align: middle;\n",
       "    }\n",
       "\n",
       "    .dataframe tbody tr th {\n",
       "        vertical-align: top;\n",
       "    }\n",
       "\n",
       "    .dataframe thead th {\n",
       "        text-align: right;\n",
       "    }\n",
       "</style>\n",
       "<table border=\"1\" class=\"dataframe\">\n",
       "  <thead>\n",
       "    <tr style=\"text-align: right;\">\n",
       "      <th></th>\n",
       "      <th>label</th>\n",
       "      <th>message</th>\n",
       "    </tr>\n",
       "  </thead>\n",
       "  <tbody>\n",
       "    <tr>\n",
       "      <th>0</th>\n",
       "      <td>0</td>\n",
       "      <td>[go, until, jurong, point, ,, crazi, .., avail...</td>\n",
       "    </tr>\n",
       "    <tr>\n",
       "      <th>1</th>\n",
       "      <td>0</td>\n",
       "      <td>[ok, lar, ..., joke, wif, u, oni, ...]</td>\n",
       "    </tr>\n",
       "    <tr>\n",
       "      <th>2</th>\n",
       "      <td>1</td>\n",
       "      <td>[free, entri, in, 2, a, wkli, comp, to, win, f...</td>\n",
       "    </tr>\n",
       "    <tr>\n",
       "      <th>3</th>\n",
       "      <td>0</td>\n",
       "      <td>[u, dun, say, so, earli, hor, ..., u, c, alrea...</td>\n",
       "    </tr>\n",
       "    <tr>\n",
       "      <th>4</th>\n",
       "      <td>0</td>\n",
       "      <td>[nah, i, do, n't, think, he, goe, to, usf, ,, ...</td>\n",
       "    </tr>\n",
       "  </tbody>\n",
       "</table>\n",
       "</div>"
      ],
      "text/plain": [
       "   label                                            message\n",
       "0      0  [go, until, jurong, point, ,, crazi, .., avail...\n",
       "1      0             [ok, lar, ..., joke, wif, u, oni, ...]\n",
       "2      1  [free, entri, in, 2, a, wkli, comp, to, win, f...\n",
       "3      0  [u, dun, say, so, earli, hor, ..., u, c, alrea...\n",
       "4      0  [nah, i, do, n't, think, he, goe, to, usf, ,, ..."
      ]
     },
     "execution_count": 10,
     "metadata": {},
     "output_type": "execute_result"
    }
   ],
   "source": [
    "df2['message'] = df2['message'].apply(lambda x: [ps.stem(y) for y in x])\n",
    "df2.head()"
   ]
  },
  {
   "cell_type": "markdown",
   "id": "fce68a9c-d89e-4b00-854d-1b937998c937",
   "metadata": {},
   "source": [
    "### 4.  Data Preprocessing using sklearn\n",
    "\n",
    "#### Counting words - example first\n",
    "\n",
    "Convert a collection of text documents to a matrix of token counts"
   ]
  },
  {
   "cell_type": "code",
   "execution_count": 11,
   "id": "3d955cbe-d9ec-4026-ba9a-c31df3b563cd",
   "metadata": {},
   "outputs": [
    {
     "name": "stdout",
     "output_type": "stream",
     "text": [
      "  (0, 8)\t1\n",
      "  (0, 3)\t1\n",
      "  (0, 6)\t1\n",
      "  (0, 2)\t1\n",
      "  (0, 1)\t1\n",
      "  (1, 8)\t1\n",
      "  (1, 3)\t1\n",
      "  (1, 6)\t1\n",
      "  (1, 1)\t2\n",
      "  (1, 5)\t1\n",
      "  (2, 8)\t1\n",
      "  (2, 3)\t1\n",
      "  (2, 6)\t1\n",
      "  (2, 0)\t1\n",
      "  (2, 7)\t1\n",
      "  (2, 4)\t1\n",
      "  (3, 8)\t1\n",
      "  (3, 3)\t1\n",
      "  (3, 6)\t1\n",
      "  (3, 2)\t1\n",
      "  (3, 1)\t1\n",
      "['and' 'document' 'first' 'is' 'one' 'second' 'the' 'third' 'this']\n",
      "\n",
      "\n",
      "[[0 1 1 1 0 0 1 0 1]\n",
      " [0 2 0 1 0 1 1 0 1]\n",
      " [1 0 0 1 1 0 1 1 1]\n",
      " [0 1 1 1 0 0 1 0 1]]\n"
     ]
    }
   ],
   "source": [
    "from sklearn.feature_extraction.text import CountVectorizer # convert a collection of text documents into a matrix of token counts (number of occurrences of each word (token))\n",
    "text_collection = ['This is the first document.',\n",
    "                   'This document is the second document.',\n",
    "                   'And this is the third one.',\n",
    "                   'Is this the first document?']\n",
    "\n",
    "vectorizer = CountVectorizer() # creating an instance of the CountVectorizer class. \n",
    "\n",
    "\n",
    "X = vectorizer.fit_transform(text_collection) #fit_transform() method  to convert the text_collection into a matrix of token counts. vocabulary dictionary of all tokens in documents, aka: features\n",
    "\n",
    "print (X)  # (0, 8)\t1  in the first document (index 0-row), the word with the index 8 (which corresponds to the word 'this' in the vocabulary/corpus, index 1-column) appears once (1) (metrix value)       \n",
    "\n",
    "print(vectorizer.get_feature_names_out())   # ['and' 'document' 'first' 'is' 'one' 'second' 'the' 'third' 'this']\n",
    "\n",
    "print ()\n",
    "\n",
    "print ()\n",
    "print(X.toarray())  #prints the matrix representation as a NumPy array.\n",
    "#Each row of the array represents a document, and each column represents a unique word (token) in the vocabulary dictionary. The values in the array represent the counts of each word in each document."
   ]
  },
  {
   "cell_type": "code",
   "execution_count": 13,
   "id": "6b65fcca",
   "metadata": {},
   "outputs": [
    {
     "name": "stdout",
     "output_type": "stream",
     "text": [
      "Word presented with the value 2 in the matrix:\n",
      "['document']\n"
     ]
    }
   ],
   "source": [
    "import numpy as np\n",
    "\n",
    "# my addiotion!!! how to extract the word shown with the value 2 in the metrix above: \n",
    "# Get the indices where the values are equal to 2\n",
    "X_array = X.toarray()\n",
    "\n",
    "# Get the indices where the values are equal to 2\n",
    "indices = np.argwhere(X_array == 2) #[[1 1]]\n",
    "\n",
    "# Retrieve the corresponding words using the feature names from CountVectorizer\n",
    "word = [vectorizer.get_feature_names_out()[index[1]] for index in indices] # indices is numpy.ndarray thus running a for loop, and index is a list thus the subsetting\n",
    "\n",
    "print(\"Word presented with the value 2 in the matrix:\")\n",
    "print(word)"
   ]
  },
  {
   "cell_type": "markdown",
   "id": "5fc9bb4f-9af4-41e3-b1d5-7ed9ec51cbbc",
   "metadata": {},
   "source": [
    "#### Word count per message on df2"
   ]
  },
  {
   "cell_type": "code",
   "execution_count": 14,
   "id": "c06aba2d-0933-4008-a0f5-799d7c70df15",
   "metadata": {},
   "outputs": [
    {
     "data": {
      "text/html": [
       "<div>\n",
       "<style scoped>\n",
       "    .dataframe tbody tr th:only-of-type {\n",
       "        vertical-align: middle;\n",
       "    }\n",
       "\n",
       "    .dataframe tbody tr th {\n",
       "        vertical-align: top;\n",
       "    }\n",
       "\n",
       "    .dataframe thead th {\n",
       "        text-align: right;\n",
       "    }\n",
       "</style>\n",
       "<table border=\"1\" class=\"dataframe\">\n",
       "  <thead>\n",
       "    <tr style=\"text-align: right;\">\n",
       "      <th></th>\n",
       "      <th>label</th>\n",
       "      <th>message</th>\n",
       "    </tr>\n",
       "  </thead>\n",
       "  <tbody>\n",
       "    <tr>\n",
       "      <th>0</th>\n",
       "      <td>0</td>\n",
       "      <td>go until jurong point , crazi .. avail onli in...</td>\n",
       "    </tr>\n",
       "    <tr>\n",
       "      <th>1</th>\n",
       "      <td>0</td>\n",
       "      <td>ok lar ... joke wif u oni ...</td>\n",
       "    </tr>\n",
       "    <tr>\n",
       "      <th>2</th>\n",
       "      <td>1</td>\n",
       "      <td>free entri in 2 a wkli comp to win fa cup fina...</td>\n",
       "    </tr>\n",
       "    <tr>\n",
       "      <th>3</th>\n",
       "      <td>0</td>\n",
       "      <td>u dun say so earli hor ... u c alreadi then sa...</td>\n",
       "    </tr>\n",
       "    <tr>\n",
       "      <th>4</th>\n",
       "      <td>0</td>\n",
       "      <td>nah i do n't think he goe to usf , he live aro...</td>\n",
       "    </tr>\n",
       "  </tbody>\n",
       "</table>\n",
       "</div>"
      ],
      "text/plain": [
       "   label                                            message\n",
       "0      0  go until jurong point , crazi .. avail onli in...\n",
       "1      0                      ok lar ... joke wif u oni ...\n",
       "2      1  free entri in 2 a wkli comp to win fa cup fina...\n",
       "3      0  u dun say so earli hor ... u c alreadi then sa...\n",
       "4      0  nah i do n't think he goe to usf , he live aro..."
      ]
     },
     "execution_count": 14,
     "metadata": {},
     "output_type": "execute_result"
    }
   ],
   "source": [
    "# This converts the list of words into space-separated strings - so we're back to a phrase for each message \n",
    "df3 = df2.copy()\n",
    "df3['message'] = df3['message'].apply(lambda x: ' '.join(x))\n",
    "df3.head()"
   ]
  },
  {
   "cell_type": "code",
   "execution_count": 15,
   "id": "a11447b3-fc5c-4d4b-9eeb-316d7d6d3998",
   "metadata": {},
   "outputs": [
    {
     "name": "stdout",
     "output_type": "stream",
     "text": [
      "  (0, 3119)\t1\n",
      "  (0, 6909)\t1\n",
      "  (0, 3809)\t1\n",
      "  (0, 5161)\t1\n",
      "  (0, 2091)\t1\n",
      "  (0, 1247)\t1\n",
      "  (0, 4832)\t1\n",
      "  (0, 3578)\t1\n",
      "  (0, 1640)\t1\n",
      "  (0, 3197)\t1\n",
      "  (0, 7299)\t1\n",
      "  (0, 3920)\t1\n",
      "  (0, 1638)\t1\n",
      "  (0, 1879)\t1\n",
      "  (0, 6573)\t1\n",
      "  (0, 3159)\t1\n",
      "  (0, 1053)\t1\n",
      "  (0, 7110)\t1\n",
      "  (1, 4803)\t1\n",
      "  (1, 3952)\t1\n",
      "  (1, 3775)\t1\n",
      "  (1, 7218)\t1\n",
      "  (1, 4830)\t1\n",
      "  (2, 3578)\t1\n",
      "  (2, 2950)\t1\n",
      "  :\t:\n",
      "  (5570, 3686)\t1\n",
      "  (5570, 7146)\t1\n",
      "  (5570, 1066)\t1\n",
      "  (5570, 4034)\t1\n",
      "  (5570, 6070)\t1\n",
      "  (5570, 2908)\t1\n",
      "  (5570, 6554)\t1\n",
      "  (5570, 1366)\t1\n",
      "  (5570, 4644)\t1\n",
      "  (5570, 2312)\t1\n",
      "  (5570, 6940)\t1\n",
      "  (5570, 1663)\t1\n",
      "  (5570, 6079)\t1\n",
      "  (5570, 1667)\t1\n",
      "  (5570, 2568)\t1\n",
      "  (5570, 3046)\t1\n",
      "  (5570, 3241)\t1\n",
      "  (5570, 3642)\t1\n",
      "  (5570, 907)\t1\n",
      "  (5570, 1463)\t1\n",
      "  (5571, 6667)\t1\n",
      "  (5571, 3686)\t2\n",
      "  (5571, 4563)\t1\n",
      "  (5571, 6781)\t1\n",
      "  (5571, 5617)\t1\n"
     ]
    }
   ],
   "source": [
    "count_vect = CountVectorizer()\n",
    "counts = count_vect.fit_transform(df3['message'])\n",
    "print(counts)"
   ]
  },
  {
   "cell_type": "code",
   "execution_count": 16,
   "id": "bed85199-26fb-4f5e-8b45-273e5c7d28ba",
   "metadata": {},
   "outputs": [
    {
     "name": "stdout",
     "output_type": "stream",
     "text": [
      "['00' '000' '000pe' ... 'èn' 'ú1' '〨ud']\n",
      "go\n",
      "7454\n"
     ]
    }
   ],
   "source": [
    "print (count_vect.get_feature_names_out())\n",
    "print(count_vect.get_feature_names_out()[3119])\n",
    "print(len(count_vect.get_feature_names_out()))"
   ]
  },
  {
   "cell_type": "markdown",
   "id": "df608431-3bff-4ba3-9482-f4abb2b98042",
   "metadata": {},
   "source": [
    " Observe that first index runs until 5571, because there 5572 messages"
   ]
  },
  {
   "cell_type": "code",
   "execution_count": 17,
   "id": "ecc24346-0159-4d83-ab70-290a7eed76a0",
   "metadata": {},
   "outputs": [
    {
     "name": "stdout",
     "output_type": "stream",
     "text": [
      "[[0 0 0 ... 0 0 0]\n",
      " [0 0 0 ... 0 0 0]\n",
      " [0 0 0 ... 0 0 0]\n",
      " ...\n",
      " [0 0 0 ... 0 0 0]\n",
      " [0 0 0 ... 0 0 0]\n",
      " [0 0 0 ... 0 0 0]]\n"
     ]
    }
   ],
   "source": [
    "print(counts.toarray())  # this is a very sparse matrix"
   ]
  },
  {
   "cell_type": "code",
   "execution_count": 18,
   "id": "cf7f47f6-f72e-4350-9c38-c6e95051348e",
   "metadata": {},
   "outputs": [
    {
     "name": "stdout",
     "output_type": "stream",
     "text": [
      "(5572, 7454)\n",
      "0\n",
      "  (0, 3119)\t1\n",
      "  (0, 6909)\t1\n",
      "  (0, 3809)\t1\n",
      "  (0, 5161)\t1\n",
      "  (0, 2091)\t1\n",
      "  (0, 1247)\t1\n",
      "  (0, 4832)\t1\n",
      "  (0, 3578)\t1\n",
      "  (0, 1640)\t1\n",
      "  (0, 3197)\t1\n",
      "  (0, 7299)\t1\n",
      "  (0, 3920)\t1\n",
      "  (0, 1638)\t1\n",
      "  (0, 1879)\t1\n",
      "  (0, 6573)\t1\n",
      "  (0, 3159)\t1\n",
      "  (0, 1053)\t1\n",
      "  (0, 7110)\t1\n",
      "  (1, 4803)\t1\n",
      "  (1, 3952)\t1\n",
      "  (1, 3775)\t1\n",
      "  (1, 7218)\t1\n",
      "  (1, 4830)\t1\n",
      "  (2, 3578)\t1\n",
      "  (2, 2950)\t1\n",
      "  :\t:\n",
      "  (5570, 3686)\t1\n",
      "  (5570, 7146)\t1\n",
      "  (5570, 1066)\t1\n",
      "  (5570, 4034)\t1\n",
      "  (5570, 6070)\t1\n",
      "  (5570, 2908)\t1\n",
      "  (5570, 6554)\t1\n",
      "  (5570, 1366)\t1\n",
      "  (5570, 4644)\t1\n",
      "  (5570, 2312)\t1\n",
      "  (5570, 6940)\t1\n",
      "  (5570, 1663)\t1\n",
      "  (5570, 6079)\t1\n",
      "  (5570, 1667)\t1\n",
      "  (5570, 2568)\t1\n",
      "  (5570, 3046)\t1\n",
      "  (5570, 3241)\t1\n",
      "  (5570, 3642)\t1\n",
      "  (5570, 907)\t1\n",
      "  (5570, 1463)\t1\n",
      "  (5571, 6667)\t1\n",
      "  (5571, 3686)\t2\n",
      "  (5571, 4563)\t1\n",
      "  (5571, 6781)\t1\n",
      "  (5571, 5617)\t1\n"
     ]
    }
   ],
   "source": [
    "print (counts.shape) # (5572, 7454) 5572 messeges (texts) and 7454 words in total \n",
    "print (counts[0,7191]) # meaning in the first text, the word with the index 7191 in the bag of words, isn't shown at all in the first text.\n",
    "\n",
    "print (counts) "
   ]
  },
  {
   "cell_type": "markdown",
   "id": "3fc46979-ed3e-4be9-a545-9de37332c239",
   "metadata": {},
   "source": [
    "## 5. Training the model"
   ]
  },
  {
   "cell_type": "code",
   "execution_count": 19,
   "id": "4d529e7e-ba32-4cd0-98d6-0b83e4a7a0f1",
   "metadata": {},
   "outputs": [
    {
     "name": "stdout",
     "output_type": "stream",
     "text": [
      "(5014, 7454)\n",
      "(5014,)\n",
      "(558, 7454)\n",
      "(558,)\n",
      "[1 0 0 0 0 0 0 0 1 0 0 0 0 0 0 0 0 0 1 0 0 1 0 1 0 0 0 1 0 0 1 1 0 0 0 0 1\n",
      " 0 1 0 0 0 0 0 0 0 0 0 0 0 1 0 0 0 0 0 0 0 0 0 0 0 1 0 0 0 0 0 0 1 0 0 0 0\n",
      " 1 1 0 0 0 0 0 0 0 0 0 0 1 0 1 0 0 0 0 0 0 1 0 0 0 1 0 1 0 0 0 0 0 0 0 0 0\n",
      " 0 0 0 0 1 0 0 0 1 0 0 0 1 1 0 0 0 0 0 0 0 0 0 0 0 1 0 1 0 0 0 0 1 0 0 0 0\n",
      " 0 0 1 1 0 0 1 0 0 1 0 0 0 0 0 0 0 0 0 0 0 0 0 0 0 0 0 0 0 0 1 0 0 0 0 0 0\n",
      " 0 0 0 0 0 0 0 0 0 0 1 1 0 0 0 0 0 0 0 0 0 0 1 0 0 1 0 0 0 0 0 0 0 0 0 0 0\n",
      " 0 0 0 0 0 0 1 0 0 0 0 1 0 0 0 0 0 0 1 0 0 0 0 1 0 0 0 0 0 0 0 1 0 0 0 0 0\n",
      " 0 0 0 0 0 0 0 0 1 1 0 1 1 0 0 0 1 0 0 1 1 0 0 0 1 1 0 0 0 0 0 1 0 0 0 0 0\n",
      " 0 0 0 0 0 0 0 0 0 0 0 0 0 0 0 0 0 0 0 0 0 0 0 0 0 0 1 0 1 0 0 0 0 0 0 0 1\n",
      " 0 0 0 0 0 0 0 0 0 0 0 0 0 0 0 0 0 0 0 1 0 0 0 0 0 0 0 0 0 0 0 0 1 0 0 0 0\n",
      " 0 0 0 0 0 0 0 0 0 1 0 0 0 1 0 0 1 0 0 0 0 0 0 0 0 0 0 1 0 1 0 0 0 0 0 0 0\n",
      " 0 1 0 1 0 0 0 0 0 1 0 0 1 0 0 0 1 0 0 0 0 0 0 0 0 0 1 0 1 0 0 1 1 0 0 0 0\n",
      " 0 0 0 1 0 0 1 0 1 0 0 1 0 0 0 0 0 0 0 0 0 0 0 0 0 0 0 0 0 0 0 0 0 0 1 0 0\n",
      " 0 1 0 0 1 0 0 0 0 1 0 0 0 0 0 1 0 0 0 0 1 0 1 0 0 1 1 0 0 0 0 0 0 0 0 1 1\n",
      " 0 0 0 1 0 1 0 0 0 0 0 0 1 0 0 0 1 1 0 0 0 0 0 0 0 0 0 0 0 0 0 0 0 0 0 0 0\n",
      " 0 0 0]\n"
     ]
    }
   ],
   "source": [
    "from sklearn.model_selection import train_test_split\n",
    "\n",
    "# split data into train and test\n",
    "X_train, X_test, y_train, y_test = train_test_split(counts, df['label'], test_size=0.1, random_state=120) #coutns is the metrix data (each row is an instance, each column is fearute (Word)),df['label'] is the target variable\n",
    "\n",
    "print (X_train.shape)   # each row has 7454 features (all possible words) \n",
    "print (y_train.shape)   \n",
    "print (X_test.shape)\n",
    "print (y_test.shape)\n",
    "y_test_array = y_test.values #.toarray() won't work here so we'd use this\n",
    "print(y_test_array)\n",
    "\n"
   ]
  },
  {
   "cell_type": "markdown",
   "id": "f3712e53-b8fd-4000-8018-1cf2349f6396",
   "metadata": {},
   "source": [
    "Initialize a Naive Bayes Classifier and fit the data. For text classification problems, the Multinomial Naive Bayes Classifier is well-suited. Make sure you read the documentation and understand how to use this model and why it fits our problem."
   ]
  },
  {
   "cell_type": "code",
   "execution_count": 20,
   "id": "dc57a1a4-9c9d-4348-af2b-dde5f82a952d",
   "metadata": {},
   "outputs": [],
   "source": [
    "from sklearn.naive_bayes import MultinomialNB #imports the MultinomialNB class from the sklearn.naive_bayes module.\n",
    "\n",
    "model = MultinomialNB().fit(X_train, y_train) #training the naive bayes classifier \n"
   ]
  },
  {
   "cell_type": "markdown",
   "id": "28796ddd-4f64-4ae0-8f74-e4d2fc7851e6",
   "metadata": {},
   "source": [
    "## 6. Evaluating the Model\n"
   ]
  },
  {
   "cell_type": "code",
   "execution_count": 21,
   "id": "0c200df3-31e0-46dd-a75d-a2c153358342",
   "metadata": {
    "scrolled": false
   },
   "outputs": [
    {
     "name": "stdout",
     "output_type": "stream",
     "text": [
      "[1 0 0 0 0 0 0 0 1 0 0 0 0 0 0 0 0 0 1 0 0 1 0 1 0 0 0 1 0 0 1 1 0 0 0 0 1\n",
      " 0 1 0 0 0 0 0 1 0 0 0 0 0 1 0 0 0 0 0 1 0 0 0 0 0 1 0 0 0 0 0 0 1 0 0 0 0\n",
      " 1 1 0 0 0 0 0 0 0 0 0 0 1 0 1 0 0 0 0 0 0 1 0 0 0 1 0 1 0 0 0 0 0 0 0 0 0\n",
      " 0 0 0 0 1 0 0 0 1 0 0 0 1 1 0 0 0 0 0 0 0 0 0 0 0 1 0 1 0 0 0 0 1 0 0 0 0\n",
      " 0 0 1 1 0 0 1 0 0 1 0 0 0 0 0 0 0 0 0 0 0 0 0 0 0 0 0 0 0 0 1 0 0 0 0 0 0\n",
      " 0 0 0 0 0 0 0 0 0 0 1 1 0 0 0 0 0 0 0 0 0 0 1 0 0 1 0 0 0 0 0 0 0 0 0 0 0\n",
      " 0 0 0 0 0 0 1 0 0 0 0 1 0 0 0 0 0 0 1 0 0 0 0 1 0 0 0 0 0 0 0 1 0 0 0 0 0\n",
      " 0 0 0 0 0 0 0 0 1 1 0 1 1 0 0 0 1 0 0 1 1 0 0 0 1 1 0 0 0 0 0 1 0 0 0 0 0\n",
      " 0 0 0 0 0 0 0 0 0 0 0 0 0 0 0 0 0 0 0 0 0 0 0 0 0 0 1 0 1 0 0 0 0 0 0 0 1\n",
      " 0 0 0 0 0 0 0 0 0 0 0 0 0 0 0 0 0 0 0 1 0 0 0 0 0 0 0 0 0 0 0 0 1 0 0 0 0\n",
      " 0 0 0 0 0 0 0 0 0 1 0 0 0 1 0 0 1 0 0 0 0 0 0 0 0 0 0 0 0 1 0 0 0 0 0 0 0\n",
      " 0 1 0 1 0 0 0 0 0 1 0 0 1 0 0 0 1 0 0 0 0 0 0 0 0 0 1 0 1 0 0 1 1 0 0 0 0\n",
      " 0 0 0 1 1 0 1 0 1 0 1 1 0 0 0 0 0 0 0 0 0 0 0 0 0 0 0 0 0 0 0 0 0 0 1 0 0\n",
      " 0 1 0 0 1 0 0 0 0 1 0 0 0 0 0 1 0 0 0 0 1 0 1 1 0 1 1 0 0 0 0 1 0 0 0 1 1\n",
      " 0 0 0 1 0 1 0 0 0 0 0 0 1 0 0 0 1 0 0 0 0 0 0 0 0 1 0 0 0 0 0 0 0 0 0 0 0\n",
      " 0 0 0]\n",
      "Model accuracy on test set: 98.4%\n"
     ]
    }
   ],
   "source": [
    "import numpy as np\n",
    "\n",
    "y_test_pred = model.predict(X_test) #This line uses the trained Naive Bayes classifier (model) to make predictions on the features of the test set (X_test)\n",
    "print(y_test_pred)\n",
    "# print(y_test_pred.shape) #(558,) there are 558 instances (texts) in the test set thus 558 rows, and 1 column- ham/spam\n",
    "\n",
    "\n",
    "print('Model accuracy on test set: %.1f%%' % (100*np.mean(y_test_pred == y_test_array))) #comparing the predicted labels (y_test_pred) with the true labels (y_test),which results in a boolean array where True is treated as 1 and False as 0."
   ]
  },
  {
   "cell_type": "code",
   "execution_count": 22,
   "id": "bfdd1880",
   "metadata": {},
   "outputs": [
    {
     "ename": "NameError",
     "evalue": "name 'incorrect_indexes' is not defined",
     "output_type": "error",
     "traceback": [
      "\u001b[1;31m---------------------------------------------------------------------------\u001b[0m",
      "\u001b[1;31mNameError\u001b[0m                                 Traceback (most recent call last)",
      "Cell \u001b[1;32mIn[22], line 4\u001b[0m\n\u001b[0;32m      1\u001b[0m \u001b[38;5;66;03m#find the text indexes that were classified incorrectly,\u001b[39;00m\n\u001b[0;32m      2\u001b[0m error_indices \u001b[38;5;241m=\u001b[39m np\u001b[38;5;241m.\u001b[39mwhere(y_test_array \u001b[38;5;241m!=\u001b[39m y_test_pred)[\u001b[38;5;241m0\u001b[39m] \u001b[38;5;66;03m#error_indices = np.where(y_test_array != y_test_pred)[0] and the second index is data type, thus we used [0]\u001b[39;00m\n\u001b[1;32m----> 4\u001b[0m \u001b[38;5;28mprint\u001b[39m(\u001b[38;5;124m\"\u001b[39m\u001b[38;5;124mIndexes of incorrectly classified instances:\u001b[39m\u001b[38;5;124m\"\u001b[39m, incorrect_indexes)\n\u001b[0;32m      6\u001b[0m \u001b[38;5;28mprint\u001b[39m()\n\u001b[0;32m      7\u001b[0m \u001b[38;5;28mprint\u001b[39m()\n",
      "\u001b[1;31mNameError\u001b[0m: name 'incorrect_indexes' is not defined"
     ]
    }
   ],
   "source": [
    "#find the text indexes that were classified incorrectly,\n",
    "error_indices = np.where(y_test_array != y_test_pred)[0] #error_indices = np.where(y_test_array != y_test_pred)[0] and the second index is data type, thus we used [0]\n",
    " \n",
    "print(\"Indexes of incorrectly classified instances:\", incorrect_indexes)\n",
    "\n",
    "print()\n",
    "print()\n",
    "\n",
    "#display the messages that were classified incorrectly\n",
    "incorrectly_classified_messages = df.iloc[error_indices]['message'] #iloc stands for \"integer location\", and it allows you to select rows and columns by their integer position.\n",
    "#Once the rows corresponding to the error indices are selected ['message'] this part further selects the 'message' column from those rows.\n",
    "print(incorrectly_classified_messages)\n",
    "\n"
   ]
  },
  {
   "cell_type": "markdown",
   "id": "544a9f68-36dc-4da6-9d1e-a98453af185a",
   "metadata": {},
   "source": [
    "# Exercise:\n",
    "\n",
    "1. Print the confusion matrix\n",
    "2. What are the precision and recall and F1 scores?\n",
    "3. Plot ROC, and calculate AUC\n",
    "4. What is your conclusion?"
   ]
  },
  {
   "cell_type": "code",
   "execution_count": 23,
   "id": "283ad5d0",
   "metadata": {},
   "outputs": [
    {
     "name": "stdout",
     "output_type": "stream",
     "text": [
      "[[461   7]\n",
      " [  2  88]]\n"
     ]
    }
   ],
   "source": [
    "from sklearn.metrics import confusion_matrix\n",
    "#1. Print the confusion matrix\n",
    "conf_matrix = confusion_matrix(y_test, y_test_pred)\n",
    "print(conf_matrix)\n",
    "\n"
   ]
  },
  {
   "cell_type": "code",
   "execution_count": 24,
   "id": "b041edea",
   "metadata": {},
   "outputs": [
    {
     "name": "stdout",
     "output_type": "stream",
     "text": [
      "Precision: 0.9263157894736842\n",
      "Recall: 0.9777777777777777\n",
      "F1 Score: 0.9513513513513514\n"
     ]
    }
   ],
   "source": [
    "from sklearn.metrics import precision_score, recall_score, f1_score\n",
    "#2. What are the precision and recall and F1 scores?\n",
    "precision = precision_score(y_test, y_test_pred) #true_positives / (true_positives + false_positives)  the ratio of correctly predicted positive observations to the total predicted positive observations. It measures the accuracy of positive predictions.\n",
    "recall = recall_score(y_test, y_test_pred) # true_positives / (true_positives + false_negatives) also known as sensitivity or true positive rate, is the ratio of correctly predicted positive observations to the all observations in the actual class\n",
    "f1 = f1_score(y_test, y_test_pred) # 2 * (precision * recall) / (precision + recall)\n",
    "print(\"Precision:\", precision)\n",
    "print(\"Recall:\", recall)\n",
    "print(\"F1 Score:\", f1)\n"
   ]
  },
  {
   "cell_type": "code",
   "execution_count": 25,
   "id": "91d3a11f",
   "metadata": {},
   "outputs": [
    {
     "data": {
      "image/png": "[encoded data removed]",
      "text/plain": [
       "<Figure size 640x480 with 1 Axes>"
      ]
     },
     "metadata": {},
     "output_type": "display_data"
    },
    {
     "name": "stdout",
     "output_type": "stream",
     "text": [
      "AUC: 0.9953703703703703\n"
     ]
    }
   ],
   "source": [
    "import matplotlib.pyplot as plt #to plot the ROC curve\n",
    "from sklearn.metrics import roc_curve, auc \n",
    "\n",
    "# first step we'll rank by probabity to be True (spam) each instance in the test set \n",
    "\n",
    "y_test_prob = model.predict_proba(X_test)[:, 1] # returns the predicted probabilities of each class for each instance (each row) in the test set X_test.\n",
    "#Column 0: Probability of the instance belonging to the negative class (ham).\n",
    "#Column 1: Probability of the instance belonging to the positive class (spam).\n",
    "#The first row [1.69820012e-11, 1.00000000e+00] indicates that the model predicts with very high confidence (probability close to 1) that this instance is spam.\n",
    "#[:, 1] is used to choose the column contains the probabilities of the positive class (spam)\n",
    "#print(y_test_prob.shape) # (558,) 558 instances and 1 column representing the probability to spam (to be True)\n",
    "\n",
    "\n",
    "# Calculate ROC curve\n",
    "fpr, tpr, thresholds = roc_curve(y_test, y_test_prob) # roc_curve returns 3 arrays \n",
    "# print(thresholds.shape) #(27,0) thus there will be 27 points of fpr and tpr \n",
    "\n",
    "# Calculate AUC\n",
    "roc_auc = auc(fpr, tpr)\n",
    "\n",
    "# Plot ROC curve\n",
    "plt.figure()\n",
    "plt.plot(fpr, tpr, color='darkorange', lw=2, label='ROC curve (area = %0.2f)' % roc_auc)\n",
    "plt.plot([0, 1], [0, 1], color='navy', lw=2, linestyle='--')\n",
    "plt.xlim([0.0, 1.0])\n",
    "plt.ylim([0.0, 1.05])\n",
    "plt.xlabel('False Positive Rate')\n",
    "plt.ylabel('True Positive Rate')\n",
    "plt.title('Receiver Operating Characteristic (ROC) Curve')\n",
    "plt.legend(loc=\"lower right\")\n",
    "plt.show()\n",
    "\n",
    "print(\"AUC:\", roc_auc) # almost 1 amazing :)\n",
    "\n"
   ]
  },
  {
   "cell_type": "markdown",
   "id": "a15c0e2a",
   "metadata": {},
   "source": [
    "# 4. What is your conclusion?\n",
    "given that the auc is almost 1 meaning our model is almost perfect in predicting wheter a text is spam or ham. in detail, the real positive (spam) texts in reality were ranked by the model with the highest probability to be a spam text (thus the tpr is rapidly gets close to 1), and on the other hand, the false positve rate remains 0 (until we make the threshold too much permissive ) meaning that there were classified very liitle amount of false positive instances . all in all, our model did very well in giving the real true instances hige probability to be true (Spam), and thus very high threshold and not premissive was required to 'catch' the TP instances. \n"
   ]
  },
  {
   "cell_type": "markdown",
   "id": "02075358-0990-4a4f-8ef3-41b93dcc78a3",
   "metadata": {},
   "source": [
    "# Part 2 - Gaussian BN\n",
    "\n",
    "We use Gaussian NB to classify the Iris data base. Specifically:\n",
    "\n",
    "1. Load the iris database using load_iris from sklearn.datasets\n",
    "2. split the data into train and test so that test size is half the data. Use random state=0\n",
    "3. Use a Gaussian NB classifier to classify the test data\n",
    "4. How many incorrect clasisfications do you get?\n",
    "5. Print the parameters of the model"
   ]
  },
  {
   "cell_type": "code",
   "execution_count": 26,
   "id": "b0ffaaf9",
   "metadata": {},
   "outputs": [],
   "source": [
    "#1. Load the iris database using load_iris from sklearn.datasets\n",
    "#2. split the data into train and test so that test size is half the data. Use random state=0\n",
    "\n",
    "from sklearn.datasets import load_iris\n",
    "from sklearn.model_selection import train_test_split\n",
    "from sklearn.naive_bayes import GaussianNB\n",
    "\n",
    "\n",
    "\n",
    "# Load the Iris dataset\n",
    "iris = load_iris() #(150,5) \n",
    "\n",
    "X = iris.data  # Features (150, 4)- thus 4 featues\n",
    "y = iris.target  # Target variable (150,) the values are 0,1,2 meaning hree classes: 0, 1, and 2, representing the three different species of iris flowers\n",
    "\n",
    "# Splitting the dataset into half training and half testing sets\n",
    "X_train, X_test, y_train, y_test = train_test_split(X, y, test_size=0.5, random_state=0)\n"
   ]
  },
  {
   "cell_type": "code",
   "execution_count": 27,
   "id": "463ebcf9",
   "metadata": {},
   "outputs": [],
   "source": [
    "#3. Use a Gaussian NB classifier to classify the test data\n",
    "\n",
    "# Training Gaussian Naive Bayes classifier\n",
    "gnb = GaussianNB()\n",
    "gnb.fit(X_train, y_train)\n",
    "\n",
    "# Predicting on the test set\n",
    "y_pred = gnb.predict(X_test)\n"
   ]
  },
  {
   "cell_type": "code",
   "execution_count": 28,
   "id": "94315363",
   "metadata": {},
   "outputs": [
    {
     "name": "stdout",
     "output_type": "stream",
     "text": [
      "Number of incorrect classifications: 4\n"
     ]
    }
   ],
   "source": [
    "#4. How many incorrect clasisfications do you get?\n",
    "\n",
    "\n",
    "incorrect_classifications = (y_pred != y_test).sum() #(y_pred != y_test) will create an array of False and True, thus each True meaning != is 1, so 4 mistakes...\n",
    "print(\"Number of incorrect classifications:\", incorrect_classifications)"
   ]
  },
  {
   "cell_type": "code",
   "execution_count": 29,
   "id": "d6a6b106-e8a7-4caf-8af7-9c371fb8f568",
   "metadata": {},
   "outputs": [
    {
     "name": "stdout",
     "output_type": "stream",
     "text": [
      "Variance parameters:\n",
      "[0.83819733 0.17475556 3.639904   0.679776  ]\n",
      "\n",
      "Mean parameters:\n",
      "[[4.97586207 3.35862069 1.44827586 0.23448276]\n",
      " [5.935      2.71       4.185      1.3       ]\n",
      " [6.77692308 3.09230769 5.73461538 2.10769231]]\n"
     ]
    }
   ],
   "source": [
    "#5. Print the parameters of the model\n",
    "\n",
    "#naive Bayes assumes a Gaussian (normal) distribution for each feature within each class, :Mean (μ): This parameter represents the mean of the feature values for a particular class. Standard deviation (σ): This parameter represents the standard deviation of the feature values for a particular class\n",
    "\n",
    "\n",
    "\n",
    "# Compute variances for each feature\n",
    "variances = X_train.var(axis=0) #The variance parameters (variances) represent the variance of each feature across the entire dataset, regardless of class\n",
    "\n",
    "print(\"Variance parameters:\")\n",
    "print(variances)  # Print variance parameters (4,) To represent it as a row vector with shape (1, 4), we should use reshape(1, -1)\n",
    "\n",
    "print(\"\\nMean parameters:\")\n",
    "print(gnb.theta_)  #(3,4) the mean parameters (gnb.theta_) represent the mean of each feature within each class. So, it's a 2-dimensional array where each row corresponds to a class and each column corresponds to a feature.\n",
    "\n",
    "\n",
    "\n"
   ]
  },
  {
   "cell_type": "markdown",
   "id": "216669c5-6ced-4107-88a5-aa9bcd4bb259",
   "metadata": {},
   "source": [
    "# Part 3 - Gaussian Naive Bayes Implementation\n",
    "\n",
    "1. Implement Gaussian NB for the data below. This means: calculate prior probabilities and conditional pdfs \n",
    "2. Compare test results to those obtained by sklearn Gaussian NB\n",
    "3. Explain why the second to last (9th) test sample has label 1 and not 0"
   ]
  },
  {
   "cell_type": "markdown",
   "id": "dbaf7981",
   "metadata": {},
   "source": [
    " In Gaussian Naive Bayes (GNB), the conditional probability distributions are assumed to follow a Gaussian (normal) distribution, which is a continuous probability distribution. Therefore, instead of directly counting occurrences of feature values as in discrete Naive Bayes, GNB models the conditional probabilities using probability density functions (PDFs), which describe the likelihood of observing a continuous variable given a specific class."
   ]
  },
  {
   "cell_type": "code",
   "execution_count": 30,
   "id": "55fb6867-657f-4c65-a1b1-4bb73c2e6ca7",
   "metadata": {},
   "outputs": [
    {
     "name": "stdout",
     "output_type": "stream",
     "text": [
      "[0 0 0 1 1 0 1 1 1 0]\n"
     ]
    }
   ],
   "source": [
    "# Data\n",
    "import numpy as np\n",
    "X_train = np.asarray([25.2, 19.3, 18.5, 21.7, 20.1, 24.3, 22.8, 23.1, 19.8,   \n",
    "                      27.3, 30.1, 17.4, 29.5, 15.1]).reshape(-1,1)   # makes it (14,1) instead of (14,), .reshape(1,-1) would do it (1,14)\n",
    "                     \n",
    "y_train = np.asarray([0,0,0,0,0,0,0,0,0,1,1,1,1,1]) #(14,)\n",
    "\n",
    "X_test = np.asarray([17.1, 21.8, 18.1, 31.7, 39.2, 20.4, 27.1, 30.2, 7.1, 25.4]).reshape(-1,1) #(10, 1)\n",
    "y_test = np.asarray([  0,   0,    0,    1,    1,    0,    1,     1,    1,   0])   # (10, )     \n",
    "print(y_test)"
   ]
  },
  {
   "cell_type": "code",
   "execution_count": 31,
   "id": "2038fea9-afa6-42d2-a9ba-4a4e0d146b9f",
   "metadata": {},
   "outputs": [
    {
     "name": "stdout",
     "output_type": "stream",
     "text": [
      "priors: [0.64285714 0.35714286]\n",
      "\n",
      "conditional probability densities for each data point under class 0 [[2.20851912e-02]\n",
      " [1.79330270e-01]\n",
      " [5.02075675e-02]\n",
      " [6.25509981e-06]\n",
      " [4.62583396e-15]\n",
      " [1.53615627e-01]\n",
      " [8.75708802e-03]\n",
      " [1.06458377e-04]\n",
      " [8.45527793e-11]\n",
      " [4.29354565e-02]]\n",
      "\n",
      "conditional probability densities for each data point under class 1 [[0.03552207]\n",
      " [0.05961849]\n",
      " [0.04152666]\n",
      " [0.02941026]\n",
      " [0.0033983 ]\n",
      " [0.05411833]\n",
      " [0.0553034 ]\n",
      " [0.03828608]\n",
      " [0.00189744]\n",
      " [0.06113194]]\n",
      "\n",
      "posterior probabilities of class 0 for each data point [[1.41976229e-02]\n",
      " [1.15283745e-01]\n",
      " [3.22762934e-02]\n",
      " [4.02113559e-06]\n",
      " [2.97375040e-15]\n",
      " [9.87529031e-02]\n",
      " [5.62955658e-03]\n",
      " [6.84375281e-05]\n",
      " [5.43553582e-11]\n",
      " [2.76013649e-02]]\n",
      "\n",
      "posterior probabilities of class 1 for each data point  [[0.01268645]\n",
      " [0.02129232]\n",
      " [0.01483095]\n",
      " [0.01050366]\n",
      " [0.00121368]\n",
      " [0.01932798]\n",
      " [0.01975122]\n",
      " [0.0136736 ]\n",
      " [0.00067766]\n",
      " [0.02183283]]\n"
     ]
    }
   ],
   "source": [
    "from scipy.stats import norm\n",
    "#1. Implement Gaussian NB for the data below. This means: calculate prior probabilities and conditional pdfs (Probability Density Function)\n",
    "\n",
    "# Step 1: Calculate prior probabilities\n",
    "total_samples = len(y_train) #14\n",
    "class_counts = np.bincount(y_train) # [9 5]- 9 for class 0 5 for class 1\n",
    "prior_probabilities = class_counts / total_samples\n",
    "print(f'priors:',prior_probabilities) \n",
    "\n",
    "# Step 2: Calculate conditional probability - we'd use PDF Probability Density Function. becuase the conditional probabilities in Gaussian Naive Bayes (GNB) are not discrete but continuous\n",
    "#PDFs are required in GNB because it deals with continuous feature values and aims to model the distribution of these values within each class in order to calculate the posterior probabilities and make predictions effectively\n",
    "\n",
    "\n",
    "#Calculate conditional probability densities manually\n",
    "class_0_indices = (y_train == 0) # boolean array of True and False\n",
    "class_1_indices = (y_train == 1)# boolean array of True and False\n",
    "\n",
    "class_0_mean = np.mean(X_train[class_0_indices]) # subsetting only the elemtns with the index of True\n",
    "class_0_std = np.std(X_train[class_0_indices])\n",
    "\n",
    "class_1_mean = np.mean(X_train[class_1_indices])\n",
    "class_1_std = np.std(X_train[class_1_indices])\n",
    "\n",
    "print()\n",
    "\n",
    "# PDFs for class 0 and class 1\n",
    "pdf_class_0 = norm.pdf(X_test, class_0_mean, class_0_std) # contains the probability density values for each data point in X_test under the assumption that it belongs to class 0,\n",
    "print(f'conditional probability densities for each data point under class 0', pdf_class_0)\n",
    "print()\n",
    "\n",
    "pdf_class_1 = norm.pdf(X_test, class_1_mean, class_1_std) # same but belongs to class 1.\n",
    "print(f'conditional probability densities for each data point under class 1',pdf_class_1)\n",
    "#so the output of pdf_class_0/1 will be an array containing the probability density values calculated for each instance in X_test, assuming a Gaussian distribution with parameters class_0/1_mean and class_0/1_std\n",
    "#Each element in the array represents the probability density of the corresponding instance in X_test belonging to class 0/1.\n",
    "\n",
    "print()\n",
    "# Calculate posterior probabilities\n",
    "posterior_prob_class_0 = pdf_class_0 * prior_probabilities[0]\n",
    "print(f'posterior probabilities of class 0 for each data point',posterior_prob_class_0)\n",
    "print()\n",
    "posterior_prob_class_1 = pdf_class_1 * prior_probabilities[1]\n",
    "print(f'posterior probabilities of class 1 for each data point ',posterior_prob_class_1)\n",
    "\n"
   ]
  },
  {
   "cell_type": "code",
   "execution_count": 32,
   "id": "f1b06d6a",
   "metadata": {
    "scrolled": true
   },
   "outputs": [
    {
     "name": "stdout",
     "output_type": "stream",
     "text": [
      "Predictions using sklearn GaussianNB: [0 0 0 1 1 0 1 1 1 0]\n",
      "Predictions using manual calculation: [[0]\n",
      " [0]\n",
      " [0]\n",
      " [1]\n",
      " [1]\n",
      " [0]\n",
      " [1]\n",
      " [1]\n",
      " [1]\n",
      " [0]]\n"
     ]
    }
   ],
   "source": [
    "#2. Compare test results to those obtained by sklearn Gaussian NB\n",
    "\n",
    "#manual calculation:\n",
    "y_test_pred_manual = (posterior_prob_class_1 > posterior_prob_class_0).astype(int) #It results in a boolean array +astype(int) converting the boolean values to integers 1-T 0-F\n",
    "\n",
    "# Instantiate and fit Gaussian Naive Bayes model using sklearn\n",
    "gnb_sklearn = GaussianNB()\n",
    "gnb_sklearn.fit(X_train, y_train)\n",
    "\n",
    "# Predictions using sklearn Gaussian NB\n",
    "y_test_pred_sklearn = gnb_sklearn.predict(X_test)\n",
    "\n",
    "# Compare predictions\n",
    "print(\"Predictions using sklearn GaussianNB:\", y_test_pred_sklearn)\n",
    "print(\"Predictions using manual calculation:\", y_test_pred_manual)"
   ]
  },
  {
   "cell_type": "markdown",
   "id": "cfa562fa",
   "metadata": {},
   "source": [
    "# 3. Explain why the second to last (9th) test sample has label 1 and not 0\n",
    "Given that the posterior probability of class 1 for the 9th test sample is higher than that of class 0, the GNB classifier predicts the label for the 9th test sample as 1."
   ]
  },
  {
   "cell_type": "code",
   "execution_count": null,
   "id": "f9c57efa",
   "metadata": {},
   "outputs": [],
   "source": []
  }
 ],
 "metadata": {
  "kernelspec": {
   "display_name": "Python 3 (ipykernel)",
   "language": "python",
   "name": "python3"
  },
  "language_info": {
   "codemirror_mode": {
    "name": "ipython",
    "version": 3
   },
   "file_extension": ".py",
   "mimetype": "text/x-python",
   "name": "python",
   "nbconvert_exporter": "python",
   "pygments_lexer": "ipython3",
   "version": "3.11.5"
  }
 },
 "nbformat": 4,
 "nbformat_minor": 5
}
